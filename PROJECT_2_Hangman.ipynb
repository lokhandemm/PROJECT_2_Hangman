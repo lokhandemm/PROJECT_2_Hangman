{
  "cells": [
    {
      "cell_type": "code",
      "source": [
        "import random\n",
        "from collections import Counter\n",
        "\n",
        "flowers='''rose lily tulip sunflower daisy orchid marigold jasmine lotus daffodil hibiscus peony lavender chrysanthemum carnation'''\n",
        "\n",
        "flowers=flowers.split()\n",
        "word=random.choice(flowers)\n",
        "\n",
        "if __name__=='__main__':\n",
        "    print('Guess the word! HINT: word is a name of a flower')\n",
        "\n",
        "    for i in word:print('_',end=' ')\n",
        "    print()\n",
        "\n",
        "    playing=True\n",
        "    letterGuessed=''\n",
        "    chances=len(word)+2\n",
        "    correct=0\n",
        "    flag=0\n",
        "    try:\n",
        "        while chances!=0 and flag==0:\n",
        "            print()\n",
        "            chances-=1\n",
        "            try:guess=str(input('Enter a letter to guess: '))\n",
        "            except:print('Enter only a letter!');continue\n",
        "\n",
        "            if not guess.isalpha():print('Enter only a LETTER');continue\n",
        "            elif len(guess)>1:print('Enter only a SINGLE letter');continue\n",
        "            elif guess in letterGuessed:print('You have already guessed that letter');continue\n",
        "\n",
        "            if guess in word:\n",
        "                k=word.count(guess)\n",
        "                for _ in range(k):letterGuessed+=guess\n",
        "\n",
        "            for char in word:\n",
        "                if char in letterGuessed and (Counter(letterGuessed)!=Counter(word)):print(char,end=' ');correct+=1\n",
        "                elif Counter(letterGuessed)==Counter(word):\n",
        "                    print(\"The word is:\",word)\n",
        "                    flag=1\n",
        "                    print('Congratulations, You won!')\n",
        "                    break\n",
        "                    break\n",
        "                else:print('_',end=' ')\n",
        "\n",
        "        if chances<=0 and (Counter(letterGuessed)!=Counter(word)):\n",
        "            print('\\nYou lost! Try again..')\n",
        "            print('The word was',word)\n",
        "\n",
        "    except KeyboardInterrupt:\n",
        "        print('\\nBye! Try again.')\n",
        "        exit()\n"
      ],
      "metadata": {
        "colab": {
          "base_uri": "https://localhost:8080/"
        },
        "id": "kgZL6JY85nkM",
        "outputId": "3b55f698-fb1f-4fb6-9ce8-3b242d4babe7"
      },
      "execution_count": 4,
      "outputs": [
        {
          "output_type": "stream",
          "name": "stdout",
          "text": [
            "Guess the word! HINT: word is a name of a flower\n",
            "_ _ _ _ _ _ _ _ \n",
            "\n",
            "Enter a letter to guess: n\n",
            "_ _ _ _ n _ _ _ \n",
            "Enter a letter to guess: a\n",
            "_ a _ _ n _ _ _ \n",
            "Enter a letter to guess: l\n",
            "l a _ _ n _ _ _ \n",
            "Enter a letter to guess: v\n",
            "l a v _ n _ _ _ \n",
            "Enter a letter to guess: e\n",
            "l a v e n _ e _ \n",
            "Enter a letter to guess: d\n",
            "l a v e n d e _ \n",
            "Enter a letter to guess: r\n",
            "The word is: lavender\n",
            "Congratulations, You won!\n"
          ]
        }
      ]
    },
    {
      "cell_type": "code",
      "source": [],
      "metadata": {
        "id": "rRsBTrA275ox"
      },
      "execution_count": null,
      "outputs": []
    }
  ],
  "metadata": {
    "colab": {
      "provenance": []
    },
    "kernelspec": {
      "display_name": "Python 3",
      "name": "python3"
    },
    "language_info": {
      "name": "python"
    }
  },
  "nbformat": 4,
  "nbformat_minor": 0
}